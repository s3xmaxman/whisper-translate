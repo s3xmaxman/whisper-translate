{
  "nbformat": 4,
  "nbformat_minor": 0,
  "metadata": {
    "colab": {
      "provenance": [],
      "gpuType": "T4",
      "mount_file_id": "16ABnO2KIWPtCbH4JeQvlgrFEHdZFTSIS",
      "authorship_tag": "ABX9TyOBWOdx4/WPuTlZ81sKhq/1",
      "include_colab_link": true
    },
    "kernelspec": {
      "name": "python3",
      "display_name": "Python 3"
    },
    "language_info": {
      "name": "python"
    },
    "accelerator": "GPU"
  },
  "cells": [
    {
      "cell_type": "markdown",
      "metadata": {
        "id": "view-in-github",
        "colab_type": "text"
      },
      "source": [
        "<a href=\"https://colab.research.google.com/github/s3xmaxman/whisper-translate/blob/main/faster_whisper_srt.ipynb\" target=\"_parent\"><img src=\"https://colab.research.google.com/assets/colab-badge.svg\" alt=\"Open In Colab\"/></a>"
      ]
    },
    {
      "cell_type": "code",
      "execution_count": null,
      "metadata": {
        "id": "vJS6bxZ796l0"
      },
      "outputs": [],
      "source": [
        "!pip install --upgrade -q faster-whisper ipython-autotime\n",
        "%load_ext autotime"
      ]
    },
    {
      "cell_type": "code",
      "source": [
        "audio = \"test.mp3\""
      ],
      "metadata": {
        "id": "w573W6Sq_psi"
      },
      "execution_count": null,
      "outputs": []
    },
    {
      "cell_type": "code",
      "source": [
        "# srt file を作成するための関数\n",
        "def create_srt_file(results, use_faster_whisper, file_name=\"transcribe\"):\n",
        "    data = []\n",
        "    with open(f\"{file_name}.srt\", mode=\"w\") as f:\n",
        "        for index, _dict in enumerate(results):\n",
        "            if use_faster_whisper:\n",
        "              start_time = _dict.start # start\n",
        "              end_time = _dict.end # end\n",
        "              text = _dict.text # text\n",
        "            else:\n",
        "              start_time = _dict[\"start\"]\n",
        "              end_time = _dict[\"end\"]\n",
        "              text = _dict[\"text\"]\n",
        "\n",
        "            data.append({\n",
        "            \"index\": index + 1,\n",
        "            \"start\": start_time,\n",
        "            \"end\": end_time,\n",
        "            \"text\": text})\n",
        "\n",
        "            # 時、分、秒、ミリ秒に分割\n",
        "            s_h, s_m, s_s = int(start_time // 3600), int((start_time % 3600) // 60), int(start_time % 60)\n",
        "            e_h, e_m, e_s = int(end_time // 3600), int((end_time % 3600) // 60), int(end_time % 60)\n",
        "\n",
        "            # ミリ秒を計算\n",
        "            s_ms = int((start_time - int(start_time)) * 1000)\n",
        "            e_ms = int((end_time - int(end_time)) * 1000)\n",
        "\n",
        "            f.write(f\"{index+1}\\n\")\n",
        "            f.write(f\"{s_h:02}:{s_m:02}:{s_s:02},{s_ms:03} --> {e_h:02}:{e_m:02}:{e_s:02},{e_ms:03}\\n\")\n",
        "            f.write(f\"{text}\\n\\n\")\n",
        "            print(f\"{index+1}\")\n",
        "            print(f\"{s_h:02}:{s_m:02}:{s_s:02},{s_ms:03} --> {e_h:02}:{e_m:02}:{e_s:02},{e_ms:03}\")\n",
        "            print(f\"{text}\")\n",
        "            print()\n",
        "    return data"
      ],
      "metadata": {
        "id": "q34i3D75-7Eo"
      },
      "execution_count": null,
      "outputs": []
    },
    {
      "cell_type": "code",
      "source": [
        "from faster_whisper import WhisperModel\n",
        "\n",
        "model_size = \"large-v3\"\n",
        "\n",
        "# Run on GPU with FP16\n",
        "model = WhisperModel(model_size, device=\"cuda\", compute_type=\"float16\")"
      ],
      "metadata": {
        "id": "xwmrUQc-9_eK"
      },
      "execution_count": null,
      "outputs": []
    },
    {
      "cell_type": "code",
      "source": [
        "segments, info = model.transcribe(audio, beam_size=5)"
      ],
      "metadata": {
        "id": "n_nDZA9E_MHN"
      },
      "execution_count": null,
      "outputs": []
    },
    {
      "cell_type": "code",
      "source": [
        "faster_whisper_data = create_srt_file(results=segments, use_faster_whisper=True, file_name=\"output\")"
      ],
      "metadata": {
        "id": "QOTQLnWf_QCp"
      },
      "execution_count": null,
      "outputs": []
    }
  ]
}