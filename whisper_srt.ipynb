{
  "nbformat": 4,
  "nbformat_minor": 0,
  "metadata": {
    "colab": {
      "provenance": [],
      "authorship_tag": "ABX9TyNweHgg1xX+VhjboerSoQ48",
      "include_colab_link": true
    },
    "kernelspec": {
      "name": "python3",
      "display_name": "Python 3"
    },
    "language_info": {
      "name": "python"
    }
  },
  "cells": [
    {
      "cell_type": "markdown",
      "metadata": {
        "id": "view-in-github",
        "colab_type": "text"
      },
      "source": [
        "<a href=\"https://colab.research.google.com/github/s3xmaxman/whisper-translate/blob/main/whisper_srt.ipynb\" target=\"_parent\"><img src=\"https://colab.research.google.com/assets/colab-badge.svg\" alt=\"Open In Colab\"/></a>"
      ]
    },
    {
      "cell_type": "code",
      "execution_count": null,
      "metadata": {
        "id": "rVcLtg0p6FMt"
      },
      "outputs": [],
      "source": [
        "!pip install -U openai-whisper\n",
        "!pip install srt"
      ]
    },
    {
      "cell_type": "code",
      "source": [
        "import whisper\n",
        "from datetime import timedelta\n",
        "import srt\n",
        "from srt import Subtitle\n",
        "import subprocess\n",
        "\n",
        "\n",
        "# 音声データ抽出 (音声ファイル名変更)\n",
        "subprocess.run(['ffmpeg', '-i', 'test.mp4', '-acodec', 'libmp3lame', '-ab', '256k', 'audio.mp3'])\n",
        "\n",
        "# Whisperモデル読み込み\n",
        "model = whisper.load_model(\"large-v3\")\n",
        "\n",
        "# 音声ファイル読み込み\n",
        "audio = whisper.load_audio(\"audio.mp3\")\n",
        "\n",
        "# 音声認識 (開始・終了時間付きセグメント取得)\n",
        "result = model.transcribe(audio, verbose=True)\n",
        "segments = result[\"segments\"]\n",
        "\n",
        "# SRTファイル用の空リスト初期化\n",
        "subtitles = []\n",
        "\n",
        "# セグメントごとにSRT行を作成\n",
        "for index, segment in enumerate(segments, start=1):\n",
        "    start_time = timedelta(seconds=segment[\"start\"])\n",
        "    end_time = timedelta(seconds=segment[\"end\"])\n",
        "    text = segment[\"text\"]\n",
        "\n",
        "    subtitle = Subtitle(\n",
        "        index=index,\n",
        "        start=start_time,\n",
        "        end=end_time,\n",
        "        content=text\n",
        "    )\n",
        "    subtitles.append(subtitle)\n",
        "\n",
        "# SRTファイル内容の作成\n",
        "srt_content = srt.compose(subtitles)\n",
        "\n",
        "# ファイルへの書き込み (エンコーディング指定)\n",
        "with open(\"output.srt\", \"w\", encoding=\"utf-8\") as f:\n",
        "    f.write(srt_content)"
      ],
      "metadata": {
        "id": "f0c5tmHu6Oyw"
      },
      "execution_count": null,
      "outputs": []
    }
  ]
}